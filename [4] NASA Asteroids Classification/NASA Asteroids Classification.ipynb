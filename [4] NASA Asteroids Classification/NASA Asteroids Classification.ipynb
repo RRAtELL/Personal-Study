{
 "cells": [
  {
   "cell_type": "code",
   "execution_count": 32,
   "metadata": {},
   "outputs": [],
   "source": [
    "import pandas as pd\n",
    "import seaborn as sns\n",
    "import re\n",
    "import matplotlib.pyplot as plt\n",
    "%matplotlib inline\n",
    "\n",
    "df=pd.read_csv('./nasa.csv')\n",
    "df['Est Dia in KM']=(df['Est Dia in KM(min)']+df['Est Dia in KM(max)'])/2\n",
    "df.drop(df.iloc[:,[0,1,3,4,5,6,7,8,9,10,13,15,16,17,19,20,21,38]], axis=1, inplace=True)"
   ]
  },
  {
   "cell_type": "code",
   "execution_count": 33,
   "metadata": {},
   "outputs": [],
   "source": [
    "years=[]\n",
    "for i in df['Close Approach Date'].values:\n",
    "    years.extend(re.findall('\\d+', i))\n",
    "\n",
    "data=[]\n",
    "for i in range(14061):\n",
    "    if len(years[i])>3:\n",
    "        data.append(years[i]) \n",
    "\n",
    "df['Close Approach Date']=data"
   ]
  },
  {
   "cell_type": "code",
   "execution_count": 34,
   "metadata": {},
   "outputs": [],
   "source": [
    "years2=[]\n",
    "for i in df['Orbit Determination Date'].values:\n",
    "    years2.extend(re.findall('\\d+', i))\n",
    "\n",
    "data2=[]\n",
    "for i in range(28121):\n",
    "    if len(years2[i])==4:\n",
    "        data2.append(years2[i])\n",
    "\n",
    "df['Orbit Determination Date']=data2"
   ]
  },
  {
   "cell_type": "code",
   "execution_count": 35,
   "metadata": {},
   "outputs": [],
   "source": [
    "df['Close Approach Date']=df['Close Approach Date'].astype(int)\n",
    "df['Orbit Determination Date']=df['Orbit Determination Date'].astype(int)"
   ]
  },
  {
   "cell_type": "code",
   "execution_count": 36,
   "metadata": {},
   "outputs": [],
   "source": [
    "encoded1=pd.get_dummies(df['Close Approach Date'])\n",
    "encoded2=pd.get_dummies(df['Orbit Determination Date'])\n",
    "\n",
    "col_names=['Earliest','Earlier','Later','Latest']\n",
    "encoded2.columns=col_names\n",
    "\n",
    "ndf=pd.concat([df, encoded1, encoded2], axis=1)\n",
    "\n",
    "ndf['Hazardous'].replace(True, 1, inplace=True)\n",
    "ndf['Hazardous'].replace(False, 1, inplace=True)"
   ]
  },
  {
   "cell_type": "code",
   "execution_count": 39,
   "metadata": {},
   "outputs": [],
   "source": [
    "from sklearn.model_selection import train_test_split\n",
    "from sklearn.preprocessing import MinMaxScaler\n",
    "from xgboost import XGBClassifier\n",
    "from lightgbm import LGBMClassifier\n",
    "from sklearn.ensemble import RandomForestClassifier\n",
    "from sklearn.preprocessing import StandardScaler"
   ]
  },
  {
   "cell_type": "code",
   "execution_count": 40,
   "metadata": {},
   "outputs": [],
   "source": [
    "from sklearn.metrics import accuracy_score, confusion_matrix \n",
    "from sklearn.metrics import precision_score, recall_score\n",
    "from sklearn.metrics import f1_score, roc_auc_score"
   ]
  },
  {
   "cell_type": "code",
   "execution_count": 41,
   "metadata": {},
   "outputs": [],
   "source": [
    "y=ndf['Hazardous']\n",
    "X=ndf.drop(['Hazardous'], axis=1, inplace=False)\n",
    "\n",
    "X_train, X_test, y_train, y_test=train_test_split(X, y, test_size=0.2, random_state=23)\n",
    "\n",
    "scaler = StandardScaler().fit(X_train)\n",
    "X_train = scaler.transform(X_train)\n",
    "X_test = scaler.transform(X_test)"
   ]
  },
  {
   "cell_type": "code",
   "execution_count": 42,
   "metadata": {},
   "outputs": [],
   "source": [
    "def get_clf_eval(y_test,pred=None):\n",
    "    \n",
    "    accuracy = accuracy_score(y_test,pred)\n",
    "    confusion = confusion_matrix(y_test,pred)\n",
    "    precision = precision_score(y_test, pred)\n",
    "    recall = recall_score(y_test,pred)\n",
    "    f1=f1_score(y_test, pred)\n",
    "    \n",
    "    print('오차 행렬')\n",
    "    print(confusion)\n",
    "    print(\"정확도 : {0:.3f}, 정밀도 : {1:.3f}, 재현율 : {2:.3f}, f1:{3:.3f}\".format(accuracy, precision, recall, f1))"
   ]
  },
  {
   "cell_type": "code",
   "execution_count": 49,
   "metadata": {},
   "outputs": [
    {
     "output_type": "stream",
     "name": "stdout",
     "text": [
      "오차 행렬\n[[938]]\n정확도 : 1.000, 정밀도 : 1.000, 재현율 : 1.000, f1:1.000\n"
     ]
    }
   ],
   "source": [
    "rf_clf=RandomForestClassifier()\n",
    "\n",
    "rf_clf.fit(X_train, y_train)\n",
    "preds=rf_clf.predict(X_test)\n",
    "\n",
    "get_clf_eval(y_test, preds)"
   ]
  },
  {
   "cell_type": "code",
   "execution_count": null,
   "metadata": {},
   "outputs": [],
   "source": []
  }
 ],
 "metadata": {
  "kernelspec": {
   "name": "python3",
   "display_name": "Python 3.9.1 64-bit",
   "metadata": {
    "interpreter": {
     "hash": "60f29f44576df2b2e85d503a2ca747e46ec76ba550b4e266c9ac07bba6f3af6d"
    }
   }
  },
  "language_info": {
   "codemirror_mode": {
    "name": "ipython",
    "version": 3
   },
   "file_extension": ".py",
   "mimetype": "text/x-python",
   "name": "python",
   "nbconvert_exporter": "python",
   "pygments_lexer": "ipython3",
   "version": "3.9.1-final"
  }
 },
 "nbformat": 4,
 "nbformat_minor": 4
}
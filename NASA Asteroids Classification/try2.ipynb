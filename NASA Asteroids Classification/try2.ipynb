{
 "cells": [
  {
   "source": [
    "import pandas as pd\n",
    "import re\n",
    "\n",
    "df=pd.read_csv('./nasa.csv')\n",
    "df.head()"
   ],
   "cell_type": "code",
   "metadata": {},
   "execution_count": 138,
   "outputs": [
    {
     "output_type": "execute_result",
     "data": {
      "text/plain": [
       "   Neo Reference ID     Name  Absolute Magnitude  Est Dia in KM(min)  \\\n",
       "0           3703080  3703080                21.6            0.127220   \n",
       "1           3723955  3723955                21.3            0.146068   \n",
       "2           2446862  2446862                20.3            0.231502   \n",
       "3           3092506  3092506                27.4            0.008801   \n",
       "4           3514799  3514799                21.6            0.127220   \n",
       "\n",
       "   Est Dia in KM(max)  Est Dia in M(min)  Est Dia in M(max)  \\\n",
       "0            0.284472         127.219879         284.472297   \n",
       "1            0.326618         146.067964         326.617897   \n",
       "2            0.517654         231.502122         517.654482   \n",
       "3            0.019681           8.801465          19.680675   \n",
       "4            0.284472         127.219879         284.472297   \n",
       "\n",
       "   Est Dia in Miles(min)  Est Dia in Miles(max)  Est Dia in Feet(min)  ...  \\\n",
       "0               0.079051               0.176763            417.388066  ...   \n",
       "1               0.090762               0.202951            479.225620  ...   \n",
       "2               0.143849               0.321655            759.521423  ...   \n",
       "3               0.005469               0.012229             28.876199  ...   \n",
       "4               0.079051               0.176763            417.388066  ...   \n",
       "\n",
       "   Asc Node Longitude Orbital Period  Perihelion Distance  Perihelion Arg  \\\n",
       "0          314.373913     609.599786             0.808259       57.257470   \n",
       "1          136.717242     425.869294             0.718200      313.091975   \n",
       "2          259.475979     643.580228             0.950791      248.415038   \n",
       "3           57.173266     514.082140             0.983902       18.707701   \n",
       "4           84.629307     495.597821             0.967687      158.263596   \n",
       "\n",
       "   Aphelion Dist  Perihelion Time  Mean Anomaly  Mean Motion  Equinox  \\\n",
       "0       2.005764     2.458162e+06    264.837533     0.590551    J2000   \n",
       "1       1.497352     2.457795e+06    173.741112     0.845330    J2000   \n",
       "2       1.966857     2.458120e+06    292.893654     0.559371    J2000   \n",
       "3       1.527904     2.457902e+06     68.741007     0.700277    J2000   \n",
       "4       1.483543     2.457814e+06    135.142133     0.726395    J2000   \n",
       "\n",
       "   Hazardous  \n",
       "0       True  \n",
       "1      False  \n",
       "2       True  \n",
       "3      False  \n",
       "4       True  \n",
       "\n",
       "[5 rows x 40 columns]"
      ],
      "text/html": "<div>\n<style scoped>\n    .dataframe tbody tr th:only-of-type {\n        vertical-align: middle;\n    }\n\n    .dataframe tbody tr th {\n        vertical-align: top;\n    }\n\n    .dataframe thead th {\n        text-align: right;\n    }\n</style>\n<table border=\"1\" class=\"dataframe\">\n  <thead>\n    <tr style=\"text-align: right;\">\n      <th></th>\n      <th>Neo Reference ID</th>\n      <th>Name</th>\n      <th>Absolute Magnitude</th>\n      <th>Est Dia in KM(min)</th>\n      <th>Est Dia in KM(max)</th>\n      <th>Est Dia in M(min)</th>\n      <th>Est Dia in M(max)</th>\n      <th>Est Dia in Miles(min)</th>\n      <th>Est Dia in Miles(max)</th>\n      <th>Est Dia in Feet(min)</th>\n      <th>...</th>\n      <th>Asc Node Longitude</th>\n      <th>Orbital Period</th>\n      <th>Perihelion Distance</th>\n      <th>Perihelion Arg</th>\n      <th>Aphelion Dist</th>\n      <th>Perihelion Time</th>\n      <th>Mean Anomaly</th>\n      <th>Mean Motion</th>\n      <th>Equinox</th>\n      <th>Hazardous</th>\n    </tr>\n  </thead>\n  <tbody>\n    <tr>\n      <th>0</th>\n      <td>3703080</td>\n      <td>3703080</td>\n      <td>21.6</td>\n      <td>0.127220</td>\n      <td>0.284472</td>\n      <td>127.219879</td>\n      <td>284.472297</td>\n      <td>0.079051</td>\n      <td>0.176763</td>\n      <td>417.388066</td>\n      <td>...</td>\n      <td>314.373913</td>\n      <td>609.599786</td>\n      <td>0.808259</td>\n      <td>57.257470</td>\n      <td>2.005764</td>\n      <td>2.458162e+06</td>\n      <td>264.837533</td>\n      <td>0.590551</td>\n      <td>J2000</td>\n      <td>True</td>\n    </tr>\n    <tr>\n      <th>1</th>\n      <td>3723955</td>\n      <td>3723955</td>\n      <td>21.3</td>\n      <td>0.146068</td>\n      <td>0.326618</td>\n      <td>146.067964</td>\n      <td>326.617897</td>\n      <td>0.090762</td>\n      <td>0.202951</td>\n      <td>479.225620</td>\n      <td>...</td>\n      <td>136.717242</td>\n      <td>425.869294</td>\n      <td>0.718200</td>\n      <td>313.091975</td>\n      <td>1.497352</td>\n      <td>2.457795e+06</td>\n      <td>173.741112</td>\n      <td>0.845330</td>\n      <td>J2000</td>\n      <td>False</td>\n    </tr>\n    <tr>\n      <th>2</th>\n      <td>2446862</td>\n      <td>2446862</td>\n      <td>20.3</td>\n      <td>0.231502</td>\n      <td>0.517654</td>\n      <td>231.502122</td>\n      <td>517.654482</td>\n      <td>0.143849</td>\n      <td>0.321655</td>\n      <td>759.521423</td>\n      <td>...</td>\n      <td>259.475979</td>\n      <td>643.580228</td>\n      <td>0.950791</td>\n      <td>248.415038</td>\n      <td>1.966857</td>\n      <td>2.458120e+06</td>\n      <td>292.893654</td>\n      <td>0.559371</td>\n      <td>J2000</td>\n      <td>True</td>\n    </tr>\n    <tr>\n      <th>3</th>\n      <td>3092506</td>\n      <td>3092506</td>\n      <td>27.4</td>\n      <td>0.008801</td>\n      <td>0.019681</td>\n      <td>8.801465</td>\n      <td>19.680675</td>\n      <td>0.005469</td>\n      <td>0.012229</td>\n      <td>28.876199</td>\n      <td>...</td>\n      <td>57.173266</td>\n      <td>514.082140</td>\n      <td>0.983902</td>\n      <td>18.707701</td>\n      <td>1.527904</td>\n      <td>2.457902e+06</td>\n      <td>68.741007</td>\n      <td>0.700277</td>\n      <td>J2000</td>\n      <td>False</td>\n    </tr>\n    <tr>\n      <th>4</th>\n      <td>3514799</td>\n      <td>3514799</td>\n      <td>21.6</td>\n      <td>0.127220</td>\n      <td>0.284472</td>\n      <td>127.219879</td>\n      <td>284.472297</td>\n      <td>0.079051</td>\n      <td>0.176763</td>\n      <td>417.388066</td>\n      <td>...</td>\n      <td>84.629307</td>\n      <td>495.597821</td>\n      <td>0.967687</td>\n      <td>158.263596</td>\n      <td>1.483543</td>\n      <td>2.457814e+06</td>\n      <td>135.142133</td>\n      <td>0.726395</td>\n      <td>J2000</td>\n      <td>True</td>\n    </tr>\n  </tbody>\n</table>\n<p>5 rows × 40 columns</p>\n</div>"
     },
     "metadata": {},
     "execution_count": 138
    }
   ]
  },
  {
   "source": [
    "df.drop(df.iloc[:, [0,1,5,6,7,8,9,10,13,16,17,19]], axis=1, inplace=True)\n",
    "df.head()"
   ],
   "cell_type": "code",
   "metadata": {},
   "execution_count": 139,
   "outputs": [
    {
     "output_type": "execute_result",
     "data": {
      "text/plain": [
       "   Absolute Magnitude  Est Dia in KM(min)  Est Dia in KM(max)  \\\n",
       "0                21.6            0.127220            0.284472   \n",
       "1                21.3            0.146068            0.326618   \n",
       "2                20.3            0.231502            0.517654   \n",
       "3                27.4            0.008801            0.019681   \n",
       "4                21.6            0.127220            0.284472   \n",
       "\n",
       "  Close Approach Date  Epoch Date Close Approach  Relative Velocity km per hr  \\\n",
       "0          1995-01-01               788947200000                 22017.003799   \n",
       "1          1995-01-01               788947200000                 65210.346095   \n",
       "2          1995-01-08               789552000000                 27326.560182   \n",
       "3          1995-01-15               790156800000                 40225.948191   \n",
       "4          1995-01-15               790156800000                 35426.991794   \n",
       "\n",
       "   Miles per hour  Miss Dist.(kilometers) Orbiting Body  Orbit ID  ...  \\\n",
       "0    13680.509944              62753692.0         Earth        17  ...   \n",
       "1    40519.173105              57298148.0         Earth        21  ...   \n",
       "2    16979.661798               7622911.5         Earth        22  ...   \n",
       "3    24994.839864              42683616.0         Earth         7  ...   \n",
       "4    22012.954985              61010824.0         Earth        25  ...   \n",
       "\n",
       "  Asc Node Longitude  Orbital Period  Perihelion Distance  Perihelion Arg  \\\n",
       "0         314.373913      609.599786             0.808259       57.257470   \n",
       "1         136.717242      425.869294             0.718200      313.091975   \n",
       "2         259.475979      643.580228             0.950791      248.415038   \n",
       "3          57.173266      514.082140             0.983902       18.707701   \n",
       "4          84.629307      495.597821             0.967687      158.263596   \n",
       "\n",
       "   Aphelion Dist  Perihelion Time  Mean Anomaly  Mean Motion  Equinox  \\\n",
       "0       2.005764     2.458162e+06    264.837533     0.590551    J2000   \n",
       "1       1.497352     2.457795e+06    173.741112     0.845330    J2000   \n",
       "2       1.966857     2.458120e+06    292.893654     0.559371    J2000   \n",
       "3       1.527904     2.457902e+06     68.741007     0.700277    J2000   \n",
       "4       1.483543     2.457814e+06    135.142133     0.726395    J2000   \n",
       "\n",
       "   Hazardous  \n",
       "0       True  \n",
       "1      False  \n",
       "2       True  \n",
       "3      False  \n",
       "4       True  \n",
       "\n",
       "[5 rows x 28 columns]"
      ],
      "text/html": "<div>\n<style scoped>\n    .dataframe tbody tr th:only-of-type {\n        vertical-align: middle;\n    }\n\n    .dataframe tbody tr th {\n        vertical-align: top;\n    }\n\n    .dataframe thead th {\n        text-align: right;\n    }\n</style>\n<table border=\"1\" class=\"dataframe\">\n  <thead>\n    <tr style=\"text-align: right;\">\n      <th></th>\n      <th>Absolute Magnitude</th>\n      <th>Est Dia in KM(min)</th>\n      <th>Est Dia in KM(max)</th>\n      <th>Close Approach Date</th>\n      <th>Epoch Date Close Approach</th>\n      <th>Relative Velocity km per hr</th>\n      <th>Miles per hour</th>\n      <th>Miss Dist.(kilometers)</th>\n      <th>Orbiting Body</th>\n      <th>Orbit ID</th>\n      <th>...</th>\n      <th>Asc Node Longitude</th>\n      <th>Orbital Period</th>\n      <th>Perihelion Distance</th>\n      <th>Perihelion Arg</th>\n      <th>Aphelion Dist</th>\n      <th>Perihelion Time</th>\n      <th>Mean Anomaly</th>\n      <th>Mean Motion</th>\n      <th>Equinox</th>\n      <th>Hazardous</th>\n    </tr>\n  </thead>\n  <tbody>\n    <tr>\n      <th>0</th>\n      <td>21.6</td>\n      <td>0.127220</td>\n      <td>0.284472</td>\n      <td>1995-01-01</td>\n      <td>788947200000</td>\n      <td>22017.003799</td>\n      <td>13680.509944</td>\n      <td>62753692.0</td>\n      <td>Earth</td>\n      <td>17</td>\n      <td>...</td>\n      <td>314.373913</td>\n      <td>609.599786</td>\n      <td>0.808259</td>\n      <td>57.257470</td>\n      <td>2.005764</td>\n      <td>2.458162e+06</td>\n      <td>264.837533</td>\n      <td>0.590551</td>\n      <td>J2000</td>\n      <td>True</td>\n    </tr>\n    <tr>\n      <th>1</th>\n      <td>21.3</td>\n      <td>0.146068</td>\n      <td>0.326618</td>\n      <td>1995-01-01</td>\n      <td>788947200000</td>\n      <td>65210.346095</td>\n      <td>40519.173105</td>\n      <td>57298148.0</td>\n      <td>Earth</td>\n      <td>21</td>\n      <td>...</td>\n      <td>136.717242</td>\n      <td>425.869294</td>\n      <td>0.718200</td>\n      <td>313.091975</td>\n      <td>1.497352</td>\n      <td>2.457795e+06</td>\n      <td>173.741112</td>\n      <td>0.845330</td>\n      <td>J2000</td>\n      <td>False</td>\n    </tr>\n    <tr>\n      <th>2</th>\n      <td>20.3</td>\n      <td>0.231502</td>\n      <td>0.517654</td>\n      <td>1995-01-08</td>\n      <td>789552000000</td>\n      <td>27326.560182</td>\n      <td>16979.661798</td>\n      <td>7622911.5</td>\n      <td>Earth</td>\n      <td>22</td>\n      <td>...</td>\n      <td>259.475979</td>\n      <td>643.580228</td>\n      <td>0.950791</td>\n      <td>248.415038</td>\n      <td>1.966857</td>\n      <td>2.458120e+06</td>\n      <td>292.893654</td>\n      <td>0.559371</td>\n      <td>J2000</td>\n      <td>True</td>\n    </tr>\n    <tr>\n      <th>3</th>\n      <td>27.4</td>\n      <td>0.008801</td>\n      <td>0.019681</td>\n      <td>1995-01-15</td>\n      <td>790156800000</td>\n      <td>40225.948191</td>\n      <td>24994.839864</td>\n      <td>42683616.0</td>\n      <td>Earth</td>\n      <td>7</td>\n      <td>...</td>\n      <td>57.173266</td>\n      <td>514.082140</td>\n      <td>0.983902</td>\n      <td>18.707701</td>\n      <td>1.527904</td>\n      <td>2.457902e+06</td>\n      <td>68.741007</td>\n      <td>0.700277</td>\n      <td>J2000</td>\n      <td>False</td>\n    </tr>\n    <tr>\n      <th>4</th>\n      <td>21.6</td>\n      <td>0.127220</td>\n      <td>0.284472</td>\n      <td>1995-01-15</td>\n      <td>790156800000</td>\n      <td>35426.991794</td>\n      <td>22012.954985</td>\n      <td>61010824.0</td>\n      <td>Earth</td>\n      <td>25</td>\n      <td>...</td>\n      <td>84.629307</td>\n      <td>495.597821</td>\n      <td>0.967687</td>\n      <td>158.263596</td>\n      <td>1.483543</td>\n      <td>2.457814e+06</td>\n      <td>135.142133</td>\n      <td>0.726395</td>\n      <td>J2000</td>\n      <td>True</td>\n    </tr>\n  </tbody>\n</table>\n<p>5 rows × 28 columns</p>\n</div>"
     },
     "metadata": {},
     "execution_count": 139
    }
   ]
  },
  {
   "source": [
    "df['Est Dia']=(df['Est Dia in KM(max)']+df['Est Dia in KM(min)'])/2\n",
    "df.drop(df.iloc[:, [1,2]], axis=1, inplace=True)\n",
    "df.head()"
   ],
   "cell_type": "code",
   "metadata": {},
   "execution_count": 140,
   "outputs": [
    {
     "output_type": "execute_result",
     "data": {
      "text/plain": [
       "   Absolute Magnitude Close Approach Date  Epoch Date Close Approach  \\\n",
       "0                21.6          1995-01-01               788947200000   \n",
       "1                21.3          1995-01-01               788947200000   \n",
       "2                20.3          1995-01-08               789552000000   \n",
       "3                27.4          1995-01-15               790156800000   \n",
       "4                21.6          1995-01-15               790156800000   \n",
       "\n",
       "   Relative Velocity km per hr  Miles per hour  Miss Dist.(kilometers)  \\\n",
       "0                 22017.003799    13680.509944              62753692.0   \n",
       "1                 65210.346095    40519.173105              57298148.0   \n",
       "2                 27326.560182    16979.661798               7622911.5   \n",
       "3                 40225.948191    24994.839864              42683616.0   \n",
       "4                 35426.991794    22012.954985              61010824.0   \n",
       "\n",
       "  Orbiting Body  Orbit ID Orbit Determination Date  Orbit Uncertainity  ...  \\\n",
       "0         Earth        17      2017-04-06 08:36:37                   5  ...   \n",
       "1         Earth        21      2017-04-06 08:32:49                   3  ...   \n",
       "2         Earth        22      2017-04-06 09:20:19                   0  ...   \n",
       "3         Earth         7      2017-04-06 09:15:49                   6  ...   \n",
       "4         Earth        25      2017-04-06 08:57:58                   1  ...   \n",
       "\n",
       "   Orbital Period  Perihelion Distance  Perihelion Arg  Aphelion Dist  \\\n",
       "0      609.599786             0.808259       57.257470       2.005764   \n",
       "1      425.869294             0.718200      313.091975       1.497352   \n",
       "2      643.580228             0.950791      248.415038       1.966857   \n",
       "3      514.082140             0.983902       18.707701       1.527904   \n",
       "4      495.597821             0.967687      158.263596       1.483543   \n",
       "\n",
       "   Perihelion Time  Mean Anomaly  Mean Motion  Equinox  Hazardous   Est Dia  \n",
       "0     2.458162e+06    264.837533     0.590551    J2000       True  0.205846  \n",
       "1     2.457795e+06    173.741112     0.845330    J2000      False  0.236343  \n",
       "2     2.458120e+06    292.893654     0.559371    J2000       True  0.374578  \n",
       "3     2.457902e+06     68.741007     0.700277    J2000      False  0.014241  \n",
       "4     2.457814e+06    135.142133     0.726395    J2000       True  0.205846  \n",
       "\n",
       "[5 rows x 27 columns]"
      ],
      "text/html": "<div>\n<style scoped>\n    .dataframe tbody tr th:only-of-type {\n        vertical-align: middle;\n    }\n\n    .dataframe tbody tr th {\n        vertical-align: top;\n    }\n\n    .dataframe thead th {\n        text-align: right;\n    }\n</style>\n<table border=\"1\" class=\"dataframe\">\n  <thead>\n    <tr style=\"text-align: right;\">\n      <th></th>\n      <th>Absolute Magnitude</th>\n      <th>Close Approach Date</th>\n      <th>Epoch Date Close Approach</th>\n      <th>Relative Velocity km per hr</th>\n      <th>Miles per hour</th>\n      <th>Miss Dist.(kilometers)</th>\n      <th>Orbiting Body</th>\n      <th>Orbit ID</th>\n      <th>Orbit Determination Date</th>\n      <th>Orbit Uncertainity</th>\n      <th>...</th>\n      <th>Orbital Period</th>\n      <th>Perihelion Distance</th>\n      <th>Perihelion Arg</th>\n      <th>Aphelion Dist</th>\n      <th>Perihelion Time</th>\n      <th>Mean Anomaly</th>\n      <th>Mean Motion</th>\n      <th>Equinox</th>\n      <th>Hazardous</th>\n      <th>Est Dia</th>\n    </tr>\n  </thead>\n  <tbody>\n    <tr>\n      <th>0</th>\n      <td>21.6</td>\n      <td>1995-01-01</td>\n      <td>788947200000</td>\n      <td>22017.003799</td>\n      <td>13680.509944</td>\n      <td>62753692.0</td>\n      <td>Earth</td>\n      <td>17</td>\n      <td>2017-04-06 08:36:37</td>\n      <td>5</td>\n      <td>...</td>\n      <td>609.599786</td>\n      <td>0.808259</td>\n      <td>57.257470</td>\n      <td>2.005764</td>\n      <td>2.458162e+06</td>\n      <td>264.837533</td>\n      <td>0.590551</td>\n      <td>J2000</td>\n      <td>True</td>\n      <td>0.205846</td>\n    </tr>\n    <tr>\n      <th>1</th>\n      <td>21.3</td>\n      <td>1995-01-01</td>\n      <td>788947200000</td>\n      <td>65210.346095</td>\n      <td>40519.173105</td>\n      <td>57298148.0</td>\n      <td>Earth</td>\n      <td>21</td>\n      <td>2017-04-06 08:32:49</td>\n      <td>3</td>\n      <td>...</td>\n      <td>425.869294</td>\n      <td>0.718200</td>\n      <td>313.091975</td>\n      <td>1.497352</td>\n      <td>2.457795e+06</td>\n      <td>173.741112</td>\n      <td>0.845330</td>\n      <td>J2000</td>\n      <td>False</td>\n      <td>0.236343</td>\n    </tr>\n    <tr>\n      <th>2</th>\n      <td>20.3</td>\n      <td>1995-01-08</td>\n      <td>789552000000</td>\n      <td>27326.560182</td>\n      <td>16979.661798</td>\n      <td>7622911.5</td>\n      <td>Earth</td>\n      <td>22</td>\n      <td>2017-04-06 09:20:19</td>\n      <td>0</td>\n      <td>...</td>\n      <td>643.580228</td>\n      <td>0.950791</td>\n      <td>248.415038</td>\n      <td>1.966857</td>\n      <td>2.458120e+06</td>\n      <td>292.893654</td>\n      <td>0.559371</td>\n      <td>J2000</td>\n      <td>True</td>\n      <td>0.374578</td>\n    </tr>\n    <tr>\n      <th>3</th>\n      <td>27.4</td>\n      <td>1995-01-15</td>\n      <td>790156800000</td>\n      <td>40225.948191</td>\n      <td>24994.839864</td>\n      <td>42683616.0</td>\n      <td>Earth</td>\n      <td>7</td>\n      <td>2017-04-06 09:15:49</td>\n      <td>6</td>\n      <td>...</td>\n      <td>514.082140</td>\n      <td>0.983902</td>\n      <td>18.707701</td>\n      <td>1.527904</td>\n      <td>2.457902e+06</td>\n      <td>68.741007</td>\n      <td>0.700277</td>\n      <td>J2000</td>\n      <td>False</td>\n      <td>0.014241</td>\n    </tr>\n    <tr>\n      <th>4</th>\n      <td>21.6</td>\n      <td>1995-01-15</td>\n      <td>790156800000</td>\n      <td>35426.991794</td>\n      <td>22012.954985</td>\n      <td>61010824.0</td>\n      <td>Earth</td>\n      <td>25</td>\n      <td>2017-04-06 08:57:58</td>\n      <td>1</td>\n      <td>...</td>\n      <td>495.597821</td>\n      <td>0.967687</td>\n      <td>158.263596</td>\n      <td>1.483543</td>\n      <td>2.457814e+06</td>\n      <td>135.142133</td>\n      <td>0.726395</td>\n      <td>J2000</td>\n      <td>True</td>\n      <td>0.205846</td>\n    </tr>\n  </tbody>\n</table>\n<p>5 rows × 27 columns</p>\n</div>"
     },
     "metadata": {},
     "execution_count": 140
    }
   ]
  },
  {
   "source": [
    "print(df['Miss Dist.(kilometers)'].value_counts())\n",
    "print(df['Orbiting Body'].value_counts())\n",
    "print(df['Orbit ID'].value_counts())\n",
    "df.drop(['Orbiting Body'], axis=1, inplace=True)\n",
    "df.drop(['Equinox'], axis=1, inplace=True)"
   ],
   "cell_type": "code",
   "metadata": {},
   "execution_count": 141,
   "outputs": [
    {
     "output_type": "stream",
     "name": "stdout",
     "text": [
      "39078284.0    2\n68527912.0    2\n44077684.0    2\n38666960.0    2\n53045132.0    2\n             ..\n38519716.0    1\n9591420.0     1\n52646248.0    1\n46189860.0    1\n68188464.0    1\nName: Miss Dist.(kilometers), Length: 4661, dtype: int64\nEarth    4687\nName: Orbiting Body, dtype: int64\n8      235\n9      227\n7      212\n10     205\n11     198\n      ... \n229      1\n213      1\n157      1\n214      1\n611      1\nName: Orbit ID, Length: 188, dtype: int64\n"
     ]
    }
   ]
  },
  {
   "source": [
    "\n",
    "- Orbit ID\n",
    "- Orbit Uncertainity"
   ],
   "cell_type": "markdown",
   "metadata": {}
  },
  {
   "cell_type": "code",
   "execution_count": 142,
   "metadata": {},
   "outputs": [],
   "source": [
    "years=[]\n",
    "for i in df['Close Approach Date'].values:\n",
    "    years.extend(re.findall('\\d+', i))\n",
    "\n",
    "data=[]\n",
    "for i in range(14061):\n",
    "    if len(years[i])>3:\n",
    "        data.append(years[i]) \n",
    "\n",
    "df['Close Approach Date']=data\n",
    "\n",
    "years2=[]\n",
    "for i in df['Orbit Determination Date'].values:\n",
    "    years2.extend(re.findall('\\d+', i))\n",
    "\n",
    "data2=[]\n",
    "for i in range(28121):\n",
    "    if len(years2[i])==4:\n",
    "        data2.append(years2[i])\n",
    "\n",
    "df['Orbit Determination Date']=data2"
   ]
  },
  {
   "cell_type": "code",
   "execution_count": 143,
   "metadata": {},
   "outputs": [],
   "source": [
    "df['Close Approach Date']=df['Close Approach Date'].astype(int)\n",
    "df['Orbit Determination Date']=df['Orbit Determination Date'].astype(int)\n",
    "df['Hazardous'].replace(True, 1, inplace=True)\n",
    "df['Hazardous'].replace(False, 1, inplace=True)"
   ]
  },
  {
   "cell_type": "code",
   "execution_count": 144,
   "metadata": {},
   "outputs": [],
   "source": [
    "from sklearn.preprocessing import LabelEncoder"
   ]
  },
  {
   "cell_type": "code",
   "execution_count": 145,
   "metadata": {},
   "outputs": [],
   "source": [
    "scale1=df['Close Approach Date'].values.reshape(-1, 1)\n",
    "scaler=LabelEncoder()\n",
    "scaler.fit(scale1)\n",
    "scaled1=scaler.transform(scale1)"
   ]
  },
  {
   "cell_type": "code",
   "execution_count": 146,
   "metadata": {},
   "outputs": [],
   "source": [
    "scale2=df['Orbit ID'].values.reshape(-1, 1)\n",
    "scaler=LabelEncoder()\n",
    "scaler.fit(scale2)\n",
    "scaled2=scaler.transform(scale2)"
   ]
  },
  {
   "cell_type": "code",
   "execution_count": 147,
   "metadata": {},
   "outputs": [],
   "source": [
    "scale3=df['Orbit Determination Date'].values.reshape(-1, 1)\n",
    "scaler=LabelEncoder()\n",
    "scaler.fit(scale3)\n",
    "scaled3=scaler.transform(scale3)"
   ]
  },
  {
   "cell_type": "code",
   "execution_count": 148,
   "metadata": {},
   "outputs": [],
   "source": [
    "scale4=df['Orbit Uncertainity'].values.reshape(-1, 1)\n",
    "scaler=LabelEncoder()\n",
    "scaler.fit(scale4)\n",
    "scaled4=scaler.transform(scale4)"
   ]
  },
  {
   "cell_type": "code",
   "execution_count": 149,
   "metadata": {},
   "outputs": [],
   "source": [
    "scaled1=pd.DataFrame(scaled1.reshape(-1, 1), columns=['scaled_Cloase Approach Date'])\n",
    "scaled2=pd.DataFrame(scaled2.reshape(-1, 1), columns=['scaled_Orbit ID'])\n",
    "scaled3=pd.DataFrame(scaled3.reshape(-1, 1), columns=['scaled_Orbit Determination Date'])\n",
    "scaled4=pd.DataFrame(scaled4.reshape(-1, 1), columns=['scaled_Orbit Uncertainity'])"
   ]
  },
  {
   "cell_type": "code",
   "execution_count": 150,
   "metadata": {},
   "outputs": [],
   "source": [
    "ndf=pd.concat([df, scaled1, scaled2, scaled3, scaled4], axis=1)\n",
    "ndf.drop(['Close Approach Date'], axis=1, inplace=True)\n",
    "ndf.drop(['Orbit ID'], axis=1, inplace=True)\n",
    "ndf.drop(['Orbit Determination Date'], axis=1, inplace=True)\n",
    "ndf.drop(['Orbit Uncertainity'], axis=1, inplace=True)"
   ]
  },
  {
   "cell_type": "code",
   "execution_count": 151,
   "metadata": {},
   "outputs": [
    {
     "output_type": "execute_result",
     "data": {
      "text/plain": [
       "      Absolute Magnitude  Epoch Date Close Approach  \\\n",
       "0                 21.600               788947200000   \n",
       "1                 21.300               788947200000   \n",
       "2                 20.300               789552000000   \n",
       "3                 27.400               790156800000   \n",
       "4                 21.600               790156800000   \n",
       "...                  ...                        ...   \n",
       "4682              23.900              1473318000000   \n",
       "4683              28.200              1473318000000   \n",
       "4684              22.700              1473318000000   \n",
       "4685              21.800              1473318000000   \n",
       "4686              19.109              1473318000000   \n",
       "\n",
       "      Relative Velocity km per hr  Miles per hour  Miss Dist.(kilometers)  \\\n",
       "0                    22017.003799    13680.509944            6.275369e+07   \n",
       "1                    65210.346095    40519.173105            5.729815e+07   \n",
       "2                    27326.560182    16979.661798            7.622912e+06   \n",
       "3                    40225.948191    24994.839864            4.268362e+07   \n",
       "4                    35426.991794    22012.954985            6.101082e+07   \n",
       "...                           ...             ...                     ...   \n",
       "4682                 79755.354273    49556.875548            6.187511e+06   \n",
       "4683                 11610.539577     7214.337772            9.677324e+05   \n",
       "4684                 25889.910626    16086.983633            9.126775e+06   \n",
       "4685                 40867.522309    25393.489071            3.900908e+07   \n",
       "4686                129408.666253    80409.512650            6.916986e+07   \n",
       "\n",
       "      Minimum Orbit Intersection  Jupiter Tisserand Invariant  \\\n",
       "0                       0.025282                        4.634   \n",
       "1                       0.186935                        5.457   \n",
       "2                       0.043058                        4.557   \n",
       "3                       0.005512                        5.093   \n",
       "4                       0.034798                        5.154   \n",
       "...                          ...                          ...   \n",
       "4682                    0.019777                        5.156   \n",
       "4683                    0.006451                        5.742   \n",
       "4684                    0.059972                        4.410   \n",
       "4685                    0.177510                        4.477   \n",
       "4686                    0.051777                        4.108   \n",
       "\n",
       "      Epoch Osculation  Eccentricity  Semi Major Axis  ...  Aphelion Dist  \\\n",
       "0            2458000.5      0.425549         1.407011  ...       2.005764   \n",
       "1            2458000.5      0.351674         1.107776  ...       1.497352   \n",
       "2            2458000.5      0.348248         1.458824  ...       1.966857   \n",
       "3            2458000.5      0.216578         1.255903  ...       1.527904   \n",
       "4            2458000.5      0.210448         1.225615  ...       1.483543   \n",
       "...                ...           ...              ...  ...            ...   \n",
       "4682         2457637.5      0.361512         1.161429  ...       1.581299   \n",
       "4683         2458000.5      0.073200         1.075134  ...       1.153835   \n",
       "4684         2458000.5      0.368055         1.528234  ...       2.090708   \n",
       "4685         2458000.5      0.202565         1.486600  ...       1.787733   \n",
       "4686         2458000.5      0.405642         1.474045  ...       2.071980   \n",
       "\n",
       "      Perihelion Time  Mean Anomaly  Mean Motion  Hazardous   Est Dia  \\\n",
       "0        2.458162e+06    264.837533     0.590551          1  0.205846   \n",
       "1        2.457795e+06    173.741112     0.845330          1  0.236343   \n",
       "2        2.458120e+06    292.893654     0.559371          1  0.374578   \n",
       "3        2.457902e+06     68.741007     0.700277          1  0.014241   \n",
       "4        2.457814e+06    135.142133     0.726395          1  0.205846   \n",
       "...               ...           ...          ...        ...       ...   \n",
       "4682     2.457708e+06    304.306025     0.787436          1  0.071374   \n",
       "4683     2.458088e+06    282.978786     0.884117          1  0.009852   \n",
       "4684     2.458300e+06    203.501147     0.521698          1  0.124035   \n",
       "4685     2.458288e+06    203.524965     0.543767          1  0.187734   \n",
       "4686     2.458319e+06    184.820424     0.550729          1  0.648250   \n",
       "\n",
       "      scaled_Cloase Approach Date  scaled_Orbit ID  \\\n",
       "0                               0               16   \n",
       "1                               0               20   \n",
       "2                               0               21   \n",
       "3                               0                6   \n",
       "4                               0               24   \n",
       "...                           ...              ...   \n",
       "4682                           21                3   \n",
       "4683                           21                1   \n",
       "4684                           21               16   \n",
       "4685                           21                5   \n",
       "4686                           21               12   \n",
       "\n",
       "      scaled_Orbit Determination Date  scaled_Orbit Uncertainity  \n",
       "0                                   3                          5  \n",
       "1                                   3                          3  \n",
       "2                                   3                          0  \n",
       "3                                   3                          6  \n",
       "4                                   3                          1  \n",
       "...                               ...                        ...  \n",
       "4682                                3                          8  \n",
       "4683                                3                          6  \n",
       "4684                                3                          6  \n",
       "4685                                3                          5  \n",
       "4686                                3                          6  \n",
       "\n",
       "[4687 rows x 25 columns]"
      ],
      "text/html": "<div>\n<style scoped>\n    .dataframe tbody tr th:only-of-type {\n        vertical-align: middle;\n    }\n\n    .dataframe tbody tr th {\n        vertical-align: top;\n    }\n\n    .dataframe thead th {\n        text-align: right;\n    }\n</style>\n<table border=\"1\" class=\"dataframe\">\n  <thead>\n    <tr style=\"text-align: right;\">\n      <th></th>\n      <th>Absolute Magnitude</th>\n      <th>Epoch Date Close Approach</th>\n      <th>Relative Velocity km per hr</th>\n      <th>Miles per hour</th>\n      <th>Miss Dist.(kilometers)</th>\n      <th>Minimum Orbit Intersection</th>\n      <th>Jupiter Tisserand Invariant</th>\n      <th>Epoch Osculation</th>\n      <th>Eccentricity</th>\n      <th>Semi Major Axis</th>\n      <th>...</th>\n      <th>Aphelion Dist</th>\n      <th>Perihelion Time</th>\n      <th>Mean Anomaly</th>\n      <th>Mean Motion</th>\n      <th>Hazardous</th>\n      <th>Est Dia</th>\n      <th>scaled_Cloase Approach Date</th>\n      <th>scaled_Orbit ID</th>\n      <th>scaled_Orbit Determination Date</th>\n      <th>scaled_Orbit Uncertainity</th>\n    </tr>\n  </thead>\n  <tbody>\n    <tr>\n      <th>0</th>\n      <td>21.600</td>\n      <td>788947200000</td>\n      <td>22017.003799</td>\n      <td>13680.509944</td>\n      <td>6.275369e+07</td>\n      <td>0.025282</td>\n      <td>4.634</td>\n      <td>2458000.5</td>\n      <td>0.425549</td>\n      <td>1.407011</td>\n      <td>...</td>\n      <td>2.005764</td>\n      <td>2.458162e+06</td>\n      <td>264.837533</td>\n      <td>0.590551</td>\n      <td>1</td>\n      <td>0.205846</td>\n      <td>0</td>\n      <td>16</td>\n      <td>3</td>\n      <td>5</td>\n    </tr>\n    <tr>\n      <th>1</th>\n      <td>21.300</td>\n      <td>788947200000</td>\n      <td>65210.346095</td>\n      <td>40519.173105</td>\n      <td>5.729815e+07</td>\n      <td>0.186935</td>\n      <td>5.457</td>\n      <td>2458000.5</td>\n      <td>0.351674</td>\n      <td>1.107776</td>\n      <td>...</td>\n      <td>1.497352</td>\n      <td>2.457795e+06</td>\n      <td>173.741112</td>\n      <td>0.845330</td>\n      <td>1</td>\n      <td>0.236343</td>\n      <td>0</td>\n      <td>20</td>\n      <td>3</td>\n      <td>3</td>\n    </tr>\n    <tr>\n      <th>2</th>\n      <td>20.300</td>\n      <td>789552000000</td>\n      <td>27326.560182</td>\n      <td>16979.661798</td>\n      <td>7.622912e+06</td>\n      <td>0.043058</td>\n      <td>4.557</td>\n      <td>2458000.5</td>\n      <td>0.348248</td>\n      <td>1.458824</td>\n      <td>...</td>\n      <td>1.966857</td>\n      <td>2.458120e+06</td>\n      <td>292.893654</td>\n      <td>0.559371</td>\n      <td>1</td>\n      <td>0.374578</td>\n      <td>0</td>\n      <td>21</td>\n      <td>3</td>\n      <td>0</td>\n    </tr>\n    <tr>\n      <th>3</th>\n      <td>27.400</td>\n      <td>790156800000</td>\n      <td>40225.948191</td>\n      <td>24994.839864</td>\n      <td>4.268362e+07</td>\n      <td>0.005512</td>\n      <td>5.093</td>\n      <td>2458000.5</td>\n      <td>0.216578</td>\n      <td>1.255903</td>\n      <td>...</td>\n      <td>1.527904</td>\n      <td>2.457902e+06</td>\n      <td>68.741007</td>\n      <td>0.700277</td>\n      <td>1</td>\n      <td>0.014241</td>\n      <td>0</td>\n      <td>6</td>\n      <td>3</td>\n      <td>6</td>\n    </tr>\n    <tr>\n      <th>4</th>\n      <td>21.600</td>\n      <td>790156800000</td>\n      <td>35426.991794</td>\n      <td>22012.954985</td>\n      <td>6.101082e+07</td>\n      <td>0.034798</td>\n      <td>5.154</td>\n      <td>2458000.5</td>\n      <td>0.210448</td>\n      <td>1.225615</td>\n      <td>...</td>\n      <td>1.483543</td>\n      <td>2.457814e+06</td>\n      <td>135.142133</td>\n      <td>0.726395</td>\n      <td>1</td>\n      <td>0.205846</td>\n      <td>0</td>\n      <td>24</td>\n      <td>3</td>\n      <td>1</td>\n    </tr>\n    <tr>\n      <th>...</th>\n      <td>...</td>\n      <td>...</td>\n      <td>...</td>\n      <td>...</td>\n      <td>...</td>\n      <td>...</td>\n      <td>...</td>\n      <td>...</td>\n      <td>...</td>\n      <td>...</td>\n      <td>...</td>\n      <td>...</td>\n      <td>...</td>\n      <td>...</td>\n      <td>...</td>\n      <td>...</td>\n      <td>...</td>\n      <td>...</td>\n      <td>...</td>\n      <td>...</td>\n      <td>...</td>\n    </tr>\n    <tr>\n      <th>4682</th>\n      <td>23.900</td>\n      <td>1473318000000</td>\n      <td>79755.354273</td>\n      <td>49556.875548</td>\n      <td>6.187511e+06</td>\n      <td>0.019777</td>\n      <td>5.156</td>\n      <td>2457637.5</td>\n      <td>0.361512</td>\n      <td>1.161429</td>\n      <td>...</td>\n      <td>1.581299</td>\n      <td>2.457708e+06</td>\n      <td>304.306025</td>\n      <td>0.787436</td>\n      <td>1</td>\n      <td>0.071374</td>\n      <td>21</td>\n      <td>3</td>\n      <td>3</td>\n      <td>8</td>\n    </tr>\n    <tr>\n      <th>4683</th>\n      <td>28.200</td>\n      <td>1473318000000</td>\n      <td>11610.539577</td>\n      <td>7214.337772</td>\n      <td>9.677324e+05</td>\n      <td>0.006451</td>\n      <td>5.742</td>\n      <td>2458000.5</td>\n      <td>0.073200</td>\n      <td>1.075134</td>\n      <td>...</td>\n      <td>1.153835</td>\n      <td>2.458088e+06</td>\n      <td>282.978786</td>\n      <td>0.884117</td>\n      <td>1</td>\n      <td>0.009852</td>\n      <td>21</td>\n      <td>1</td>\n      <td>3</td>\n      <td>6</td>\n    </tr>\n    <tr>\n      <th>4684</th>\n      <td>22.700</td>\n      <td>1473318000000</td>\n      <td>25889.910626</td>\n      <td>16086.983633</td>\n      <td>9.126775e+06</td>\n      <td>0.059972</td>\n      <td>4.410</td>\n      <td>2458000.5</td>\n      <td>0.368055</td>\n      <td>1.528234</td>\n      <td>...</td>\n      <td>2.090708</td>\n      <td>2.458300e+06</td>\n      <td>203.501147</td>\n      <td>0.521698</td>\n      <td>1</td>\n      <td>0.124035</td>\n      <td>21</td>\n      <td>16</td>\n      <td>3</td>\n      <td>6</td>\n    </tr>\n    <tr>\n      <th>4685</th>\n      <td>21.800</td>\n      <td>1473318000000</td>\n      <td>40867.522309</td>\n      <td>25393.489071</td>\n      <td>3.900908e+07</td>\n      <td>0.177510</td>\n      <td>4.477</td>\n      <td>2458000.5</td>\n      <td>0.202565</td>\n      <td>1.486600</td>\n      <td>...</td>\n      <td>1.787733</td>\n      <td>2.458288e+06</td>\n      <td>203.524965</td>\n      <td>0.543767</td>\n      <td>1</td>\n      <td>0.187734</td>\n      <td>21</td>\n      <td>5</td>\n      <td>3</td>\n      <td>5</td>\n    </tr>\n    <tr>\n      <th>4686</th>\n      <td>19.109</td>\n      <td>1473318000000</td>\n      <td>129408.666253</td>\n      <td>80409.512650</td>\n      <td>6.916986e+07</td>\n      <td>0.051777</td>\n      <td>4.108</td>\n      <td>2458000.5</td>\n      <td>0.405642</td>\n      <td>1.474045</td>\n      <td>...</td>\n      <td>2.071980</td>\n      <td>2.458319e+06</td>\n      <td>184.820424</td>\n      <td>0.550729</td>\n      <td>1</td>\n      <td>0.648250</td>\n      <td>21</td>\n      <td>12</td>\n      <td>3</td>\n      <td>6</td>\n    </tr>\n  </tbody>\n</table>\n<p>4687 rows × 25 columns</p>\n</div>"
     },
     "metadata": {},
     "execution_count": 151
    }
   ],
   "source": [
    "ndf"
   ]
  },
  {
   "cell_type": "code",
   "execution_count": 163,
   "metadata": {},
   "outputs": [],
   "source": [
    "from sklearn.model_selection import train_test_split\n",
    "from sklearn.preprocessing import StandardScaler"
   ]
  },
  {
   "cell_type": "code",
   "execution_count": 164,
   "metadata": {},
   "outputs": [],
   "source": [
    "y=ndf['Hazardous']\n",
    "X=ndf.drop(['Hazardous'], axis=1, inplace=False)\n",
    "\n",
    "scaler=StandardScaler()\n",
    "scaler.fit(X)\n",
    "X_scaled=scaler.transform(X)"
   ]
  },
  {
   "cell_type": "code",
   "execution_count": 183,
   "metadata": {},
   "outputs": [],
   "source": [
    "X_train, X_test, y_train, y_test=train_test_split(X_scaled, y, test_size=0.999, random_state=156)"
   ]
  },
  {
   "cell_type": "code",
   "execution_count": 184,
   "metadata": {},
   "outputs": [],
   "source": [
    "from sklearn.ensemble import RandomForestClassifier"
   ]
  },
  {
   "cell_type": "code",
   "execution_count": 185,
   "metadata": {},
   "outputs": [],
   "source": [
    "from sklearn.metrics import confusion_matrix, accuracy_score\n",
    "from sklearn.metrics import precision_score, recall_score\n",
    "from sklearn.metrics import f1_score, roc_auc_score\n"
   ]
  },
  {
   "cell_type": "code",
   "execution_count": 186,
   "metadata": {},
   "outputs": [
    {
     "output_type": "stream",
     "name": "stdout",
     "text": [
      "정확도는 : 1.0000\n"
     ]
    }
   ],
   "source": [
    "rf_clf=RandomForestClassifier()\n",
    "\n",
    "rf_clf.fit(X_train, y_train)\n",
    "preds=rf_clf.predict(X_train)\n",
    "\n",
    "print('정확도는 : {0:.4f}'.format(accuracy_score(y_train, preds)))"
   ]
  },
  {
   "cell_type": "code",
   "execution_count": null,
   "metadata": {},
   "outputs": [],
   "source": []
  }
 ],
 "metadata": {
  "kernelspec": {
   "name": "python3",
   "display_name": "Python 3.9.1 64-bit",
   "metadata": {
    "interpreter": {
     "hash": "60f29f44576df2b2e85d503a2ca747e46ec76ba550b4e266c9ac07bba6f3af6d"
    }
   }
  }
 },
 "nbformat": 4,
 "nbformat_minor": 4
}
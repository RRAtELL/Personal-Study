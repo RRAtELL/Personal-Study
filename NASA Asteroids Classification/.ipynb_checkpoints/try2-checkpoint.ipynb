{
 "cells": [
  {
   "cell_type": "code",
   "execution_count": 91,
   "metadata": {},
   "outputs": [],
   "source": [
    "import pandas as pd\n",
    "import plotly.express as px\n",
    "import re\n",
    "\n",
    "df=pd.read_csv('./nasa.csv')"
   ]
  },
  {
   "cell_type": "code",
   "execution_count": 92,
   "metadata": {},
   "outputs": [],
   "source": [
    "df.drop(df.iloc[:,[0,1,3,5,6,7,8,9,10,13,15,16,17,19,20,38]], axis=1, inplace=True)"
   ]
  },
  {
   "cell_type": "code",
   "execution_count": 93,
   "metadata": {},
   "outputs": [],
   "source": [
    "years=[]\n",
    "for i in df['Close Approach Date'].values:\n",
    "    years.extend(re.findall('\\d+', i))"
   ]
  },
  {
   "cell_type": "code",
   "execution_count": 97,
   "metadata": {},
   "outputs": [],
   "source": [
    "for i in range(0, 14061):\n",
    "    if len(years[i])<3:\n",
    "        del years[i]"
   ]
  },
  {
   "cell_type": "code",
   "execution_count": 54,
   "metadata": {},
   "outputs": [
    {
     "data": {
      "text/plain": [
       "0       2017-04-06 08:36:37\n",
       "1       2017-04-06 08:32:49\n",
       "2       2017-04-06 09:20:19\n",
       "3       2017-04-06 09:15:49\n",
       "4       2017-04-06 08:57:58\n",
       "               ...         \n",
       "4682    2017-04-06 08:24:07\n",
       "4683    2017-04-06 08:23:58\n",
       "4684    2017-04-06 08:23:43\n",
       "4685    2017-04-06 08:23:42\n",
       "4686    2017-04-29 06:18:33\n",
       "Name: Orbit Determination Date, Length: 4687, dtype: object"
      ]
     },
     "execution_count": 54,
     "metadata": {},
     "output_type": "execute_result"
    }
   ],
   "source": [
    "df['Orbit Determination Date']"
   ]
  },
  {
   "cell_type": "code",
   "execution_count": null,
   "metadata": {},
   "outputs": [],
   "source": []
  }
 ],
 "metadata": {
  "kernelspec": {
   "display_name": "Python 3",
   "language": "python",
   "name": "python3"
  },
  "language_info": {
   "codemirror_mode": {
    "name": "ipython",
    "version": 3
   },
   "file_extension": ".py",
   "mimetype": "text/x-python",
   "name": "python",
   "nbconvert_exporter": "python",
   "pygments_lexer": "ipython3",
   "version": "3.8.5"
  }
 },
 "nbformat": 4,
 "nbformat_minor": 4
}

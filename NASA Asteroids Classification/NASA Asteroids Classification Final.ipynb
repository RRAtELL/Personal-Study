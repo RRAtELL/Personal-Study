{
 "cells": [
  {
   "source": [
    "import pandas as pd\n",
    "import re\n",
    "from sklearn.preprocessing import LabelEncoder\n",
    "from sklearn.model_selection import train_test_split\n",
    "from sklearn.preprocessing import StandardScaler\n",
    "from sklearn.ensemble import RandomForestClassifier\n",
    "from sklearn.metrics import confusion_matrix, accuracy_score\n",
    "from sklearn.metrics import precision_score, recall_score\n",
    "from sklearn.metrics import f1_score, roc_auc_score\n",
    "\n",
    "df=pd.read_csv('./nasa.csv')"
   ],
   "cell_type": "code",
   "metadata": {},
   "execution_count": 63,
   "outputs": []
  },
  {
   "source": [
    "df['Est Dia']=(df['Est Dia in KM(max)']+df['Est Dia in KM(min)'])/2\n",
    "df['Hazardous'].replace(True, 1, inplace=True)\n",
    "df['Hazardous'].replace(False, 0, inplace=True)\n",
    "\n",
    "df.drop(df.iloc[:, [0,1,5,6,7,8,9,10,13,16,17,19]], axis=1, inplace=True)\n",
    "df.drop(df.iloc[:, [1,2]], axis=1, inplace=True)\n",
    "df.drop(['Orbiting Body'], axis=1, inplace=True)\n",
    "df.drop(['Equinox'], axis=1, inplace=True)"
   ],
   "cell_type": "code",
   "metadata": {},
   "execution_count": 64,
   "outputs": []
  },
  {
   "source": [
    "years=[]\n",
    "for i in df['Close Approach Date'].values:\n",
    "    years.extend(re.findall('\\d+', i))\n",
    "data=[]\n",
    "for i in range(14061):\n",
    "    if len(years[i])>3:\n",
    "        data.append(years[i]) \n",
    "df['Close Approach Date']=data\n",
    "df['Close Approach Date']=df['Close Approach Date'].astype(int)\n",
    "\n",
    "years2=[]\n",
    "for i in df['Orbit Determination Date'].values:\n",
    "    years2.extend(re.findall('\\d+', i))\n",
    "data2=[]\n",
    "for i in range(28121):\n",
    "    if len(years2[i])==4:\n",
    "        data2.append(years2[i])\n",
    "df['Orbit Determination Date']=data2\n",
    "df['Orbit Determination Date']=df['Orbit Determination Date'].astype(int)"
   ],
   "cell_type": "code",
   "metadata": {},
   "execution_count": 65,
   "outputs": []
  },
  {
   "source": [
    "scale1=df['Close Approach Date'].values.reshape(-1, 1)\n",
    "scaler=LabelEncoder()\n",
    "scaler.fit(scale1)\n",
    "scaled1=scaler.transform(scale1)\n",
    "\n",
    "scale2=df['Orbit ID'].values.reshape(-1, 1)\n",
    "scaler=LabelEncoder()\n",
    "scaler.fit(scale2)\n",
    "scaled2=scaler.transform(scale2)\n",
    "\n",
    "scale3=df['Orbit Determination Date'].values.reshape(-1, 1)\n",
    "scaler=LabelEncoder()\n",
    "scaler.fit(scale3)\n",
    "scaled3=scaler.transform(scale3)\n",
    "\n",
    "scale4=df['Orbit Uncertainity'].values.reshape(-1, 1)\n",
    "scaler=LabelEncoder()\n",
    "scaler.fit(scale4)\n",
    "scaled4=scaler.transform(scale4)\n",
    "\n",
    "scaled1=pd.DataFrame(scaled1.reshape(-1, 1), columns=['scaled_Cloase Approach Date'])\n",
    "scaled2=pd.DataFrame(scaled2.reshape(-1, 1), columns=['scaled_Orbit ID'])\n",
    "scaled3=pd.DataFrame(scaled3.reshape(-1, 1), columns=['scaled_Orbit Determination Date'])\n",
    "scaled4=pd.DataFrame(scaled4.reshape(-1, 1), columns=['scaled_Orbit Uncertainity'])\n",
    "\n",
    "ndf=pd.concat([df, scaled1, scaled2, scaled3, scaled4], axis=1)\n",
    "ndf.drop(['Close Approach Date'], axis=1, inplace=True)\n",
    "ndf.drop(['Orbit ID'], axis=1, inplace=True)\n",
    "ndf.drop(['Orbit Determination Date'], axis=1, inplace=True)\n",
    "ndf.drop(['Orbit Uncertainity'], axis=1, inplace=True)"
   ],
   "cell_type": "code",
   "metadata": {},
   "execution_count": 66,
   "outputs": []
  },
  {
   "source": [
    "y=ndf['Hazardous']\n",
    "X=ndf.drop(['Hazardous'], axis=1, inplace=False)\n",
    "\n",
    "scaler=StandardScaler()\n",
    "scaler.fit(X)\n",
    "X_scaled=scaler.transform(X)\n",
    "\n",
    "X_train, X_test, y_train, y_test=train_test_split(X_scaled, y, test_size=0.2, random_state=156)"
   ],
   "cell_type": "code",
   "metadata": {},
   "execution_count": 67,
   "outputs": []
  },
  {
   "source": [
    "def get_clf_eval(y_test,pred=None, pred_proba=None):\n",
    "    accuracy = accuracy_score(y_test,pred)\n",
    "    confusion = confusion_matrix(y_test,pred)\n",
    "    precision = precision_score(y_test, pred)\n",
    "    recall = recall_score(y_test,pred)\n",
    "    f1=f1_score(y_test, pred)\n",
    "    roc_auc=roc_auc_score(y_test, pred_proba)\n",
    "    print('오차 행렬')\n",
    "    print(confusion)\n",
    "    print(\"정확도 : {0:.4f}, 정밀도 : {1:.4f}, 재현율 : {2:.4f}, f1:{3:.4f}, auc:{4:.4f}\".format(accuracy,precision,recall,f1, roc_auc))"
   ],
   "cell_type": "code",
   "metadata": {},
   "execution_count": 68,
   "outputs": []
  },
  {
   "source": [
    "rf_clf=RandomForestClassifier()\n",
    "\n",
    "rf_clf.fit(X_train, y_train)\n",
    "preds=rf_clf.predict(X_test)\n",
    "pred_proba=rf_clf.predict_proba(X_test)[:, 1]\n",
    "\n",
    "get_clf_eval(y_test, preds, pred_proba)"
   ],
   "cell_type": "code",
   "metadata": {},
   "execution_count": 69,
   "outputs": [
    {
     "output_type": "stream",
     "name": "stdout",
     "text": [
      "오차 행렬\n[[787   0]\n [  5 146]]\n정확도 : 0.9947, 정밀도 : 1.0000, 재현율 : 0.9669, f1:0.9832, auc:0.9982\n"
     ]
    }
   ]
  },
  {
   "cell_type": "code",
   "execution_count": 70,
   "metadata": {},
   "outputs": [
    {
     "output_type": "stream",
     "name": "stdout",
     "text": [
      "hi\n"
     ]
    }
   ],
   "source": [
    "print('hi')"
   ]
  },
  {
   "cell_type": "code",
   "execution_count": null,
   "metadata": {},
   "outputs": [],
   "source": []
  }
 ],
 "metadata": {
  "kernelspec": {
   "name": "python3",
   "display_name": "Python 3.9.1 64-bit",
   "metadata": {
    "interpreter": {
     "hash": "60f29f44576df2b2e85d503a2ca747e46ec76ba550b4e266c9ac07bba6f3af6d"
    }
   }
  }
 },
 "nbformat": 4,
 "nbformat_minor": 4
}